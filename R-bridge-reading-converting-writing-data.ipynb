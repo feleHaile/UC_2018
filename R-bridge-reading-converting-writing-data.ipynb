{
 "cells": [
  {
   "cell_type": "markdown",
   "metadata": {},
   "source": [
    "# Read, manipulate, and write data\n",
    "\n",
    "   The **arcgisbinding** package provides functionality that simplifies bringing ArcGIS data types into R and manipulating them so they are ready for analysis. On the simplest level, the bridge allows for the easy transfer of data back and forth between ArcGIS and R without having to manually convert data sets into a recognizable format. However, the functionality enables much more, everything from advanced data aggregations, subsets, and selections, to data manipulations regarding format or projections. All of this contained within a couple of functions to make the process simple. Through the power of the R-ArcGIS Bridge, you can easily transfer data from ArcGIS to R to gain access to the wealth of statistical packages and functions that you might need to further your analysis. Once finished, the bridge allows you to transfer your data back to ArcGIS to take advantage of the mapping, publishing, and sharing aspects of ArcGIS. \n",
    "\n",
    "See below for the various topics pertaining to **arcgisbinding** package functionality. Each topic has a section contains details on how the functionality works along with practice examples. \n",
    "\n",
    " - Read: [Reading ArcGIS Data Into R](#Read:-Reading-ArcGIS-Data-Into-R)\n",
    "  - [arc.open Functionality](#arc.open-Functionality)    \n",
    "  - [Practice Session: Read](#Practice-Session:-Read)\n",
    " - Manipulate: [Manipulating ArcGIS Data In R](#Manipulate:-Manipulating-ArcGIS-Data-In-R)\n",
    "  - [Vector Data](#Vector-Data)\n",
    "    - [arc.select Functionality](#arc.select-Functionality)\n",
    "       - [Column Selections](#Column-Selections)\n",
    "       - [Data Subsets With SQL Queries](#Data-Subsets-With-SQL-Queries)\n",
    "       - [Reprojecting](#Reprojecting)\n",
    "    - [arc.data2sp Functionality](#arc.data2sp-Functionality)\n",
    "    - [arc.data2sf Functionality](#arc.data2sf-Functionality)\n",
    "    - [Practice Session: Vector Manipulations](#Practice-Session:-Vector-Manipulations)\n",
    "  - [Raster Data](#Raster-Data)\n",
    "    - [arc.raster Functionality](#arc.raster-Functionality)\n",
    "       - [Pixel Selections](#Pixel-Selections)\n",
    "       - [Pixel Type Adjustments](#Pixel-Type-Adjustments)\n",
    "       - [Resampling](#Resampling)\n",
    "       - [Reprojecting](#Reprojecting)\n",
    "    - [as.raster Functionality](#as.raster-Functionality)\n",
    "    - [Mosaic Datasets](#Mosaic-Datasets)\n",
    "    - [Practice Session: Raster Manipulations](#Practice-Session:-Raster-Manipulations)\n",
    " - Write: [Writing R Data Into ArcGIS](#Write:-Writing-R-Data-Into-ArcGIS)\n",
    "    - [arc.write Functionality](#arc.write-Functionality)    \n",
    "    - [Practice Session: Write](#Practice-Session:-Write)\n",
    " - Delete: [Remove and Replace Data](#Delete:-Remove-and-Replace-Data)\n",
    "    - [arc.delete Functionality](#arc.delete-Functionality)    \n",
    "    - [Practice Session: Delete](#Practice-Session:-Delete)"
   ]
  },
  {
   "cell_type": "markdown",
   "metadata": {},
   "source": [
    " ## Read: Reading ArcGIS Data Into R\n",
    " \n",
    " The first main use of the bridge is to transfer data from ArcGIS to R. When you are first getting started with the bridge, the functions that you will use most often include:\n",
    "\n",
    " * `arc.check_product()`\n",
    " \n",
    " * `arc.open()`\n",
    " \n",
    "Once you have initialized the bridge connection in ArcGIS and installed the **arcgisbinding** package into your R workspace, see the R-bridge-install-and-setup Jupyter Notebook for full details, you will finalize the connection between ArcGIS and R by using the `arc.check_product()` function. This function does not take any arguments and will return details regarding your current ArcGIS installation and your current version of the **arcgisbinding** package. \n",
    "\n",
    "```R\n",
    "arc.check_product()\n",
    "```\n",
    "\n",
    "Practice loading the **arcgisbinding** package and running the function `arc.check_product()` now:"
   ]
  },
  {
   "cell_type": "code",
   "execution_count": 1,
   "metadata": {},
   "outputs": [
    {
     "name": "stderr",
     "output_type": "stream",
     "text": [
      "Warning message:\n",
      "\"package 'arcgisbinding' was built under R version 3.5.0\"*** Please call arc.check_product() to define a desktop license.\n"
     ]
    },
    {
     "data": {
      "text/html": [
       "<dl>\n",
       "\t<dt>$license</dt>\n",
       "\t\t<dd>'Advanced'</dd>\n",
       "\t<dt>$version</dt>\n",
       "\t\t<dd>'12.2.0.12813'</dd>\n",
       "\t<dt>$path</dt>\n",
       "\t\t<dd>'C:\\\\ArcGIS\\\\Pro\\\\'</dd>\n",
       "\t<dt>$dll</dt>\n",
       "\t\t<dd>'rarcproxy_pro'</dd>\n",
       "\t<dt>$app</dt>\n",
       "\t\t<dd>'ArcGIS Pro'</dd>\n",
       "\t<dt>$pkg_ver</dt>\n",
       "\t\t<dd>'1.0.1.230'</dd>\n",
       "</dl>\n"
      ],
      "text/latex": [
       "\\begin{description}\n",
       "\\item[\\$license] 'Advanced'\n",
       "\\item[\\$version] '12.2.0.12813'\n",
       "\\item[\\$path] 'C:\\textbackslash{}\\textbackslash{}ArcGIS\\textbackslash{}\\textbackslash{}Pro\\textbackslash{}\\textbackslash{}'\n",
       "\\item[\\$dll] 'rarcproxy\\_pro'\n",
       "\\item[\\$app] 'ArcGIS Pro'\n",
       "\\item[\\$pkg\\_ver] '1.0.1.230'\n",
       "\\end{description}\n"
      ],
      "text/markdown": [
       "$license\n",
       ":   'Advanced'\n",
       "$version\n",
       ":   '12.2.0.12813'\n",
       "$path\n",
       ":   'C:\\\\ArcGIS\\\\Pro\\\\'\n",
       "$dll\n",
       ":   'rarcproxy_pro'\n",
       "$app\n",
       ":   'ArcGIS Pro'\n",
       "$pkg_ver\n",
       ":   '1.0.1.230'\n",
       "\n",
       "\n"
      ],
      "text/plain": [
       "product: ArcGIS Pro ( 12.2.0.12813 )\n",
       "license: Advanced \n",
       "version: 1.0.1.230 "
      ]
     },
     "metadata": {},
     "output_type": "display_data"
    }
   ],
   "source": [
    "library(arcgisbinding)\n",
    "arc.check_product()"
   ]
  },
  {
   "cell_type": "markdown",
   "metadata": {},
   "source": [
    "After you have successfully connected ArcGIS and R, you can begin loading your data into your desired workspace. For GIS data that is currently stored in a shapefile, file geodatabase, table, feature service, or ArcGIS support raster data type, you will begin by using the `arc.open` function to read it into R. \n",
    " \n",
    " ### arc.open Functionality\n",
    " \n",
    " The Jupyter Notebooks for this preconference come with some sample data which we will use for the purpose of demonstrating the functions contained in the **arcgisbinding** package. Most of this data has been stored in a file geodatabase called 'data.gdb' which is contained in a folder called 'data' along with some shapefiles. To access this data, we can start by checking where our current working directory is located by using the `getwd()` core R function. This function returns the path of our working directory and comes with the core packages included with R by default. \n",
    " "
   ]
  },
  {
   "cell_type": "code",
   "execution_count": 2,
   "metadata": {},
   "outputs": [
    {
     "data": {
      "text/html": [
       "'C:/ArcGIS/Pro/bin/Python/envs/arcgispro-r'"
      ],
      "text/latex": [
       "'C:/ArcGIS/Pro/bin/Python/envs/arcgispro-r'"
      ],
      "text/markdown": [
       "'C:/ArcGIS/Pro/bin/Python/envs/arcgispro-r'"
      ],
      "text/plain": [
       "[1] \"C:/ArcGIS/Pro/bin/Python/envs/arcgispro-r\""
      ]
     },
     "metadata": {},
     "output_type": "display_data"
    }
   ],
   "source": [
    "getwd()"
   ]
  },
  {
   "cell_type": "markdown",
   "metadata": {},
   "source": [
    "Our working environment is set to the file path pertaining to a conda environment created for this preconferene seminar. This environment contains R and all the packages we will use throughout most of our exercises. The 'data' folder is located at this location as well. So to access data from it, we simply need to provide that folder information in our R function calls. We can check this out by inspecting the items contained in this location. "
   ]
  },
  {
   "cell_type": "code",
   "execution_count": 7,
   "metadata": {},
   "outputs": [
    {
     "data": {
      "text/html": [
       "<ol class=list-inline>\n",
       "\t<li>'crashes_per_mile.CPG'</li>\n",
       "\t<li>'crashes_per_mile.dbf'</li>\n",
       "\t<li>'crashes_per_mile.prj'</li>\n",
       "\t<li>'crashes_per_mile.sbn'</li>\n",
       "\t<li>'crashes_per_mile.sbx'</li>\n",
       "\t<li>'crashes_per_mile.shp'</li>\n",
       "\t<li>'crashes_per_mile.shp.xml'</li>\n",
       "\t<li>'crashes_per_mile.shx'</li>\n",
       "\t<li>'data.gdb'</li>\n",
       "</ol>\n"
      ],
      "text/latex": [
       "\\begin{enumerate*}\n",
       "\\item 'crashes\\_per\\_mile.CPG'\n",
       "\\item 'crashes\\_per\\_mile.dbf'\n",
       "\\item 'crashes\\_per\\_mile.prj'\n",
       "\\item 'crashes\\_per\\_mile.sbn'\n",
       "\\item 'crashes\\_per\\_mile.sbx'\n",
       "\\item 'crashes\\_per\\_mile.shp'\n",
       "\\item 'crashes\\_per\\_mile.shp.xml'\n",
       "\\item 'crashes\\_per\\_mile.shx'\n",
       "\\item 'data.gdb'\n",
       "\\end{enumerate*}\n"
      ],
      "text/markdown": [
       "1. 'crashes_per_mile.CPG'\n",
       "2. 'crashes_per_mile.dbf'\n",
       "3. 'crashes_per_mile.prj'\n",
       "4. 'crashes_per_mile.sbn'\n",
       "5. 'crashes_per_mile.sbx'\n",
       "6. 'crashes_per_mile.shp'\n",
       "7. 'crashes_per_mile.shp.xml'\n",
       "8. 'crashes_per_mile.shx'\n",
       "9. 'data.gdb'\n",
       "\n",
       "\n"
      ],
      "text/plain": [
       "[1] \"crashes_per_mile.CPG\"     \"crashes_per_mile.dbf\"    \n",
       "[3] \"crashes_per_mile.prj\"     \"crashes_per_mile.sbn\"    \n",
       "[5] \"crashes_per_mile.sbx\"     \"crashes_per_mile.shp\"    \n",
       "[7] \"crashes_per_mile.shp.xml\" \"crashes_per_mile.shx\"    \n",
       "[9] \"data.gdb\"                "
      ]
     },
     "metadata": {},
     "output_type": "display_data"
    }
   ],
   "source": [
    "list.files(path = \"data\")"
   ]
  },
  {
   "cell_type": "markdown",
   "metadata": {},
   "source": [
    " The only argument of the `arc.open` function is the path location at which the data you are trying to load is stored. To easily access the path for the sample data contained within the **arcgisbinding** package, the `system.file` function can be used.  \n",
    "\n",
    "```R\n",
    "ozone.path <- system.file(\"extdata\", \"ca_ozone_pts.shp\",\n",
    "                          package=\"arcgisbinding\")\n",
    "ozone.arc.dataset <- arc.open(ozone.path)\n",
    "```\n",
    "\n",
    "The sample data is now stored in the `ozone.arc.dataset` variable which is an `arc.dataset` object of class S4. This enables you to gain easy access to your data's metadata, such as its extent, a list of field names, and its geometry information.\n",
    "\n",
    "```R\n",
    "ozone.arc.dataset@extent\n",
    "ozone.arc.dataset@fields\n",
    "ozone.arc.dataset@shapeinfo\n",
    "``` \n",
    " ### Practice Session: Read "
   ]
  },
  {
   "cell_type": "markdown",
   "metadata": {},
   "source": [
    "## Manipulate: Manipulating ArcGIS Data In R\n",
    "\n",
    "### Vector Data\n",
    "\n",
    "#### arc.select Functionality\n",
    "\n",
    "The `arc.select` function can be used to obtain your data set in an R data frame object. This function also offers you the ability to choose specific attributes from your data set to work with and the ability to construct SQL queries to only bring in certain observations based on the criteria of your analysis. For example, we can select six of the nine attributes from the `ozone.arc.dataset` object and elect to examine only those observations with an elevation of 1000 meters or greater. \n",
    "\n",
    "```R\n",
    "ozone.dataframe <- arc.select(object = ozone.arc.dataset, fields = c(\"FID\", \"Shape\", \"LATITUDE\", \"LONGITUDE\", \"ELEVATION\", \"OZONE\"), where_clause = \"ELEVATION >= 1000\")\n",
    "head(ozone.dataframe)\n",
    "```\n",
    "\n",
    "##### Column Selections\n",
    "\n",
    "##### Data Subsets With SQL Queries\n",
    "\n",
    "##### Reprojecting\n",
    "\n",
    "#### arc.data2sp Functionality\n",
    "\n",
    "#### arc.data2sf Functionality\n",
    "\n",
    "#### Practice Session: Vector Manipulations\n"
   ]
  },
  {
   "cell_type": "code",
   "execution_count": null,
   "metadata": {},
   "outputs": [],
   "source": []
  },
  {
   "cell_type": "markdown",
   "metadata": {},
   "source": [
    "### Raster Data\n",
    "\n",
    "#### arc.raster Functionality\n",
    "\n",
    "##### Pixel Selections\n",
    "\n",
    "##### Pixel Type Adjustments\n",
    "\n",
    "##### Resampling\n",
    "\n",
    "##### Reprojecting\n",
    "\n",
    "#### as.raster Functionality\n",
    "\n",
    "#### Mosaic Datasets\n",
    "\n",
    "#### Practice Session: Raster Manipulations\n"
   ]
  },
  {
   "cell_type": "code",
   "execution_count": null,
   "metadata": {},
   "outputs": [],
   "source": []
  },
  {
   "cell_type": "markdown",
   "metadata": {},
   "source": [
    "## Write: Writing R Data Into ArcGIS\n",
    "\n",
    "### arc.write Functionality\n",
    "\n",
    "The `arc.write` function allows you to easily save your data to shapefile, geodatabase, or table. This function is often called once you have completed your work in R and need to transfer your data to ArcGIS for mapping and/or further analysis. The first argument is the path for the location of the ArcGIS project you wish to write your new results to. The second argument specifies the R object you are writing to this new location. Additional optional parameters allow you to provide the geometry type and spatial reference for your data if desired. \n",
    "\n",
    "```R\n",
    "arc.write(path = tempfile(\"ca_new\", fileext=\".shp\"), data = ozone.dataframe)\n",
    "```\n",
    "\n",
    "The `arc.write` function has also been designed with data generation in mind. For example, the function can be used to create new features in ArcGIS as demonstrated below where the `arc.write` function creates 100 uniformly distributed points in a unit square from a normal distribution.\n",
    "\n",
    "```R\n",
    "arc.write(path = tempfile(\"new_pts\", fileext=\".shp\"), data = list('data'=rnorm(100)),\n",
    "          coords = list(x=runif(100,min=0,max=1),y=runif(100,min=0,max=1)),\n",
    "          shape_info = list(type='Point'))\n",
    "\n",
    "```\n",
    "\n",
    "### Practice Session: Write\n"
   ]
  },
  {
   "cell_type": "code",
   "execution_count": null,
   "metadata": {},
   "outputs": [],
   "source": []
  },
  {
   "cell_type": "markdown",
   "metadata": {},
   "source": [
    "## Delete: Remove and Replace Data\n",
    "\n",
    "### arc.delete Functionality\n",
    "\n",
    "Finally, if you have generated output through the 'arc.write' function that you wish to overwrite or remove, you can use the 'arc.delete' function to either permanently delete the previously created output or to delete the old output prior to recreating it again with 'arc.write'.  \n",
    "\n",
    "```R\n",
    "arc.delete(x = tempfile(\"new_pts\", fileext=\".shp\"))\n",
    "\n",
    "```\n",
    "\n",
    "### Practice Session: Delete\n"
   ]
  },
  {
   "cell_type": "code",
   "execution_count": null,
   "metadata": {},
   "outputs": [],
   "source": []
  }
 ],
 "metadata": {
  "kernelspec": {
   "display_name": "R",
   "language": "R",
   "name": "ir"
  },
  "language_info": {
   "codemirror_mode": "r",
   "file_extension": ".r",
   "mimetype": "text/x-r-source",
   "name": "R",
   "pygments_lexer": "r",
   "version": "3.4.3"
  }
 },
 "nbformat": 4,
 "nbformat_minor": 2
}
