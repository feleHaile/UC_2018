{
 "cells": [
  {
   "cell_type": "markdown",
   "metadata": {},
   "source": [
    "# Read, manipulate, and write data\n",
    "\n",
    "   The **arcgisbinding** package provides functionality that simplifies bringing ArcGIS data types into R and manipulating them so they are ready for analysis. On the simplest level, the bridge allows for the easy transfer of data back and forth between ArcGIS and R without having to manually convert data sets into a recognizable format. However, the functionality enables much more, everything from advanced data aggregations, subsets, and selections, to data manipulations regarding format or projections. All of this contained within a couple of functions to make the process simple. Through the power of the R-ArcGIS Bridge, you can easily transfer data from ArcGIS to R to gain access to the wealth of statistical packages and functions that you might need to further your analysis. Once finished, the bridge allows you to transfer your data back to ArcGIS to take advantage of the mapping, publishing, and sharing aspects of ArcGIS. \n",
    "\n",
    "See below for the various topics pertaining to **arcgisbinding** package functionality. Each topic has a section contains details on how the functionality works along with practice examples. \n",
    "\n",
    " - Read: [Reading ArcGIS Data Into R](#Read:-Reading-ArcGIS-Data-Into-R)\n",
    "  - [arc.open Functionality](#arc.open-Functionality)    \n",
    "  - [Practice Session: Read](#Practice-Session:-Read)\n",
    " - Manipulate: [Manipulating ArcGIS Data In R](#Manipulate:-Manipulating-ArcGIS-Data-In-R)\n",
    "  - [Vector Data](#Vector-Data)\n",
    "    - [arc.select Functionality](#arc.select-Functionality)\n",
    "       - [Column Selections](#Column-Selections)\n",
    "       - [Data Subsets With SQL Queries](#Data-Subsets-With-SQL-Queries)\n",
    "       - [Reprojecting](#Reprojecting)\n",
    "    - [arc.data2sp Functionality](#arc.data2sp-Functionality)\n",
    "    - [arc.data2sf Functionality](#arc.data2sf-Functionality)\n",
    "    - [Practice Session: Vector Manipulations](#Practice-Session:-Vector-Manipulations)\n",
    "  - [Raster Data](#Raster-Data)\n",
    "    - [arc.raster Functionality](#arc.raster-Functionality)\n",
    "       - [Pixel Selections](#Pixel-Selections)\n",
    "       - [Pixel Type Adjustments](#Pixel-Type-Adjustments)\n",
    "       - [Resampling](#Resampling)\n",
    "       - [Reprojecting](#Reprojecting)\n",
    "    - [as.raster Functionality](#as.raster-Functionality)\n",
    "    - [Mosaic Datasets](#Mosaic-Datasets)\n",
    "    - [Practice Session: Raster Manipulations](#Practice-Session:-Raster-Manipulations)\n",
    " - Write: [Writing R Data Into ArcGIS](#Write:-Writing-R-Data-Into-ArcGIS)\n",
    "    - [arc.write Functionality](#arc.write-Functionality)    \n",
    "    - [Practice Session: Write](#Practice-Session:-Write)\n",
    " - Delete: [Remove and Replace Data](#Delete:-Remove-and-Replace-Data)\n",
    "    - [arc.delete Functionality](#arc.delete-Functionality)    \n",
    "    - [Practice Session: Delete](#Practice-Session:-Delete)"
   ]
  },
  {
   "cell_type": "markdown",
   "metadata": {},
   "source": [
    " ## Read: Reading ArcGIS Data Into R\n",
    " \n",
    " The first main use of the bridge is to transfer data from ArcGIS to R. When you are first getting started with the bridge, the functions that you will use most often include:\n",
    "\n",
    " * `arc.check_product()`\n",
    " \n",
    " * `arc.open()`\n",
    " \n",
    "Once you have initialized the bridge connection in ArcGIS and installed the **arcgisbinding** package into your R workspace, see the R-bridge-install-and-setup Jupyter Notebook for full details, you will finalize the connection between ArcGIS and R by using the `arc.check_product()` function. This function does not take any arguments and will return details regarding your current ArcGIS installation and your current version of the **arcgisbinding** package. \n",
    "\n",
    "```R\n",
    "arc.check_product()\n",
    "```\n",
    "\n",
    "Practice loading the **arcgisbinding** package and running the function `arc.check_product()` now:"
   ]
  },
  {
   "cell_type": "code",
   "execution_count": 2,
   "metadata": {},
   "outputs": [
    {
     "name": "stderr",
     "output_type": "stream",
     "text": [
      "Warning message:\n",
      "\"package 'arcgisbinding' was built under R version 3.5.0\"*** Please call arc.check_product() to define a desktop license.\n"
     ]
    },
    {
     "data": {
      "text/html": [
       "<dl>\n",
       "\t<dt>$license</dt>\n",
       "\t\t<dd>'Advanced'</dd>\n",
       "\t<dt>$version</dt>\n",
       "\t\t<dd>'12.2.0.12813'</dd>\n",
       "\t<dt>$path</dt>\n",
       "\t\t<dd>'C:\\\\ArcGIS\\\\Pro\\\\'</dd>\n",
       "\t<dt>$dll</dt>\n",
       "\t\t<dd>'rarcproxy_pro'</dd>\n",
       "\t<dt>$app</dt>\n",
       "\t\t<dd>'ArcGIS Pro'</dd>\n",
       "\t<dt>$pkg_ver</dt>\n",
       "\t\t<dd>'1.0.1.230'</dd>\n",
       "</dl>\n"
      ],
      "text/latex": [
       "\\begin{description}\n",
       "\\item[\\$license] 'Advanced'\n",
       "\\item[\\$version] '12.2.0.12813'\n",
       "\\item[\\$path] 'C:\\textbackslash{}\\textbackslash{}ArcGIS\\textbackslash{}\\textbackslash{}Pro\\textbackslash{}\\textbackslash{}'\n",
       "\\item[\\$dll] 'rarcproxy\\_pro'\n",
       "\\item[\\$app] 'ArcGIS Pro'\n",
       "\\item[\\$pkg\\_ver] '1.0.1.230'\n",
       "\\end{description}\n"
      ],
      "text/markdown": [
       "$license\n",
       ":   'Advanced'\n",
       "$version\n",
       ":   '12.2.0.12813'\n",
       "$path\n",
       ":   'C:\\\\ArcGIS\\\\Pro\\\\'\n",
       "$dll\n",
       ":   'rarcproxy_pro'\n",
       "$app\n",
       ":   'ArcGIS Pro'\n",
       "$pkg_ver\n",
       ":   '1.0.1.230'\n",
       "\n",
       "\n"
      ],
      "text/plain": [
       "product: ArcGIS Pro ( 12.2.0.12813 )\n",
       "license: Advanced \n",
       "version: 1.0.1.230 "
      ]
     },
     "metadata": {},
     "output_type": "display_data"
    }
   ],
   "source": [
    "library(arcgisbinding)\n",
    "arc.check_product()"
   ]
  },
  {
   "cell_type": "markdown",
   "metadata": {},
   "source": [
    "After you have successfully connected ArcGIS and R, you can begin loading your data into your desired workspace. For GIS data that is currently stored in a shapefile, file geodatabase, table, feature service, or ArcGIS supported raster data type, you will begin by using the `arc.open` function to read it into R. \n",
    " \n",
    " ### arc.open Functionality\n",
    " \n",
    " The Jupyter Notebooks for this preconference come with some sample data which we will use for the purpose of demonstrating the functions contained in the **arcgisbinding** package. Most of this data has been stored in a file geodatabase called 'data.gdb' which is contained in a folder called 'data' along with some shapefiles. To access this data, we can start by checking where our current working directory is located by using the `getwd()` core R function. This function returns the path of our working directory and comes with the core packages included with R by default. \n",
    " "
   ]
  },
  {
   "cell_type": "code",
   "execution_count": 3,
   "metadata": {},
   "outputs": [
    {
     "data": {
      "text/html": [
       "'C:/ArcGIS/Pro/bin/Python/envs/arcgispro-r'"
      ],
      "text/latex": [
       "'C:/ArcGIS/Pro/bin/Python/envs/arcgispro-r'"
      ],
      "text/markdown": [
       "'C:/ArcGIS/Pro/bin/Python/envs/arcgispro-r'"
      ],
      "text/plain": [
       "[1] \"C:/ArcGIS/Pro/bin/Python/envs/arcgispro-r\""
      ]
     },
     "metadata": {},
     "output_type": "display_data"
    }
   ],
   "source": [
    "getwd()"
   ]
  },
  {
   "cell_type": "markdown",
   "metadata": {},
   "source": [
    "Our working environment is set to the file path pertaining to a conda environment created for this preconferene seminar. This environment contains R and all the packages we will use throughout most of our exercises. The 'data' folder is located at this location as well. So to access data from it, we simply need to provide that folder information in our R function calls. We can check this out by inspecting the items contained in this location. "
   ]
  },
  {
   "cell_type": "code",
   "execution_count": 4,
   "metadata": {
    "scrolled": true
   },
   "outputs": [
    {
     "data": {
      "text/html": [
       "<ol class=list-inline>\n",
       "\t<li>'crashes_per_mile.CPG'</li>\n",
       "\t<li>'crashes_per_mile.dbf'</li>\n",
       "\t<li>'crashes_per_mile.prj'</li>\n",
       "\t<li>'crashes_per_mile.sbn'</li>\n",
       "\t<li>'crashes_per_mile.sbx'</li>\n",
       "\t<li>'crashes_per_mile.shp'</li>\n",
       "\t<li>'crashes_per_mile.shp.xml'</li>\n",
       "\t<li>'crashes_per_mile.shx'</li>\n",
       "\t<li>'data.gdb'</li>\n",
       "</ol>\n"
      ],
      "text/latex": [
       "\\begin{enumerate*}\n",
       "\\item 'crashes\\_per\\_mile.CPG'\n",
       "\\item 'crashes\\_per\\_mile.dbf'\n",
       "\\item 'crashes\\_per\\_mile.prj'\n",
       "\\item 'crashes\\_per\\_mile.sbn'\n",
       "\\item 'crashes\\_per\\_mile.sbx'\n",
       "\\item 'crashes\\_per\\_mile.shp'\n",
       "\\item 'crashes\\_per\\_mile.shp.xml'\n",
       "\\item 'crashes\\_per\\_mile.shx'\n",
       "\\item 'data.gdb'\n",
       "\\end{enumerate*}\n"
      ],
      "text/markdown": [
       "1. 'crashes_per_mile.CPG'\n",
       "2. 'crashes_per_mile.dbf'\n",
       "3. 'crashes_per_mile.prj'\n",
       "4. 'crashes_per_mile.sbn'\n",
       "5. 'crashes_per_mile.sbx'\n",
       "6. 'crashes_per_mile.shp'\n",
       "7. 'crashes_per_mile.shp.xml'\n",
       "8. 'crashes_per_mile.shx'\n",
       "9. 'data.gdb'\n",
       "\n",
       "\n"
      ],
      "text/plain": [
       "[1] \"crashes_per_mile.CPG\"     \"crashes_per_mile.dbf\"    \n",
       "[3] \"crashes_per_mile.prj\"     \"crashes_per_mile.sbn\"    \n",
       "[5] \"crashes_per_mile.sbx\"     \"crashes_per_mile.shp\"    \n",
       "[7] \"crashes_per_mile.shp.xml\" \"crashes_per_mile.shx\"    \n",
       "[9] \"data.gdb\"                "
      ]
     },
     "metadata": {},
     "output_type": "display_data"
    }
   ],
   "source": [
    "list.files(path = \"data\")"
   ]
  },
  {
   "cell_type": "markdown",
   "metadata": {},
   "source": [
    "Now that we have a better idea of where the data we wish to use is located, we can begin taking advantage of bridge functionality. To use the `arc.open()` function, the only argument needed is the path location at which the data you are trying to load is stored. In this case, that path is `'C:/ArcGIS/Pro/bin/Python/envs/arcgispro-r/data'` for any ArcGIS shapefiles or `'C:/ArcGIS/Pro/bin/Python/envs/arcgispro-r/data/data.gdb'` for the datasets stored within this file geodatabase which include:\n",
    "* African_Buffalo_Locations\n",
    "* Billboard_Faces\n",
    "* San_Francisco_Crimes\n",
    "* World_Bioclimates_Study_Area_SM\n",
    "* World_Distance_to_Water_Stud_SM\n",
    "* World_Ecological_Facets_Stud_SM\n",
    "* World_Land_Cover_Study_Area_SM\n",
    "* World_Lithology_Study_Area_0_SM\n",
    "\n",
    "If we were to start by opening the crashes_per_mile.shp in our data folder, we would begin by calling the `arc.open()` function with the path location of this shapefile as its argument. \n",
    "\n",
    "```R\n",
    "crashes_arc <- arc.open(\"data/crashes_per_mile.shp\")\n",
    "```"
   ]
  },
  {
   "cell_type": "markdown",
   "metadata": {},
   "source": [
    "The sample data is now stored in the `crashes_arc` variable which is an `arc.dataset` object of class S4. This enables you to gain easy access to your data's metadata, such as its extent, a list of field names, and its geometry information.\n",
    "\n",
    "```R\n",
    "crashes_arc.dataset@extent\n",
    "crashes_arc.dataset@fields\n",
    "crashes_arc.dataset@shapeinfo\n",
    "``` \n",
    "\n",
    "We can try this out for ourselves in this Jupyter Notebook by inserting an R code box below and executing the lines from above. "
   ]
  },
  {
   "cell_type": "code",
   "execution_count": 8,
   "metadata": {},
   "outputs": [
    {
     "data": {
      "text/html": [
       "<dl class=dl-horizontal>\n",
       "\t<dt>xmin</dt>\n",
       "\t\t<dd>230656.05498064</dd>\n",
       "\t<dt>ymin</dt>\n",
       "\t\t<dd>4094991.41312572</dd>\n",
       "\t<dt>xmax</dt>\n",
       "\t\t<dd>673579.21539663</dd>\n",
       "\t<dt>ymax</dt>\n",
       "\t\t<dd>4651709.20364443</dd>\n",
       "</dl>\n"
      ],
      "text/latex": [
       "\\begin{description*}\n",
       "\\item[xmin] 230656.05498064\n",
       "\\item[ymin] 4094991.41312572\n",
       "\\item[xmax] 673579.21539663\n",
       "\\item[ymax] 4651709.20364443\n",
       "\\end{description*}\n"
      ],
      "text/markdown": [
       "xmin\n",
       ":   230656.05498064ymin\n",
       ":   4094991.41312572xmax\n",
       ":   673579.21539663ymax\n",
       ":   4651709.20364443\n",
       "\n"
      ],
      "text/plain": [
       "     xmin      ymin      xmax      ymax \n",
       " 230656.1 4094991.4  673579.2 4651709.2 "
      ]
     },
     "metadata": {},
     "output_type": "display_data"
    },
    {
     "data": {
      "text/html": [
       "<dl>\n",
       "\t<dt>$FID</dt>\n",
       "\t\t<dd>'OID'</dd>\n",
       "\t<dt>$Shape</dt>\n",
       "\t\t<dd>'Geometry'</dd>\n",
       "\t<dt>$OBJECTID</dt>\n",
       "\t\t<dd>'Integer'</dd>\n",
       "\t<dt>$RouteNm</dt>\n",
       "\t\t<dd>'String'</dd>\n",
       "\t<dt>$LABEL</dt>\n",
       "\t\t<dd>'String'</dd>\n",
       "\t<dt>$BEG_MP</dt>\n",
       "\t\t<dd>'Double'</dd>\n",
       "\t<dt>$END_MP</dt>\n",
       "\t\t<dd>'Double'</dd>\n",
       "\t<dt>$DESCRIP</dt>\n",
       "\t\t<dd>'String'</dd>\n",
       "\t<dt>$REGION</dt>\n",
       "\t\t<dd>'Integer'</dd>\n",
       "\t<dt>$AVG_AADT</dt>\n",
       "\t\t<dd>'Double'</dd>\n",
       "\t<dt>$FC_NAME</dt>\n",
       "\t\t<dd>'String'</dd>\n",
       "\t<dt>$TOT_C</dt>\n",
       "\t\t<dd>'Integer'</dd>\n",
       "\t<dt>$C_MI</dt>\n",
       "\t\t<dd>'Double'</dd>\n",
       "\t<dt>$C_SCORE</dt>\n",
       "\t\t<dd>'Integer'</dd>\n",
       "\t<dt>$PROTECTED</dt>\n",
       "\t\t<dd>'String'</dd>\n",
       "\t<dt>$State_FA</dt>\n",
       "\t\t<dd>'String'</dd>\n",
       "</dl>\n"
      ],
      "text/latex": [
       "\\begin{description}\n",
       "\\item[\\$FID] 'OID'\n",
       "\\item[\\$Shape] 'Geometry'\n",
       "\\item[\\$OBJECTID] 'Integer'\n",
       "\\item[\\$RouteNm] 'String'\n",
       "\\item[\\$LABEL] 'String'\n",
       "\\item[\\$BEG\\_MP] 'Double'\n",
       "\\item[\\$END\\_MP] 'Double'\n",
       "\\item[\\$DESCRIP] 'String'\n",
       "\\item[\\$REGION] 'Integer'\n",
       "\\item[\\$AVG\\_AADT] 'Double'\n",
       "\\item[\\$FC\\_NAME] 'String'\n",
       "\\item[\\$TOT\\_C] 'Integer'\n",
       "\\item[\\$C\\_MI] 'Double'\n",
       "\\item[\\$C\\_SCORE] 'Integer'\n",
       "\\item[\\$PROTECTED] 'String'\n",
       "\\item[\\$State\\_FA] 'String'\n",
       "\\end{description}\n"
      ],
      "text/markdown": [
       "$FID\n",
       ":   'OID'\n",
       "$Shape\n",
       ":   'Geometry'\n",
       "$OBJECTID\n",
       ":   'Integer'\n",
       "$RouteNm\n",
       ":   'String'\n",
       "$LABEL\n",
       ":   'String'\n",
       "$BEG_MP\n",
       ":   'Double'\n",
       "$END_MP\n",
       ":   'Double'\n",
       "$DESCRIP\n",
       ":   'String'\n",
       "$REGION\n",
       ":   'Integer'\n",
       "$AVG_AADT\n",
       ":   'Double'\n",
       "$FC_NAME\n",
       ":   'String'\n",
       "$TOT_C\n",
       ":   'Integer'\n",
       "$C_MI\n",
       ":   'Double'\n",
       "$C_SCORE\n",
       ":   'Integer'\n",
       "$PROTECTED\n",
       ":   'String'\n",
       "$State_FA\n",
       ":   'String'\n",
       "\n",
       "\n"
      ],
      "text/plain": [
       "$FID\n",
       "[1] \"OID\"\n",
       "\n",
       "$Shape\n",
       "[1] \"Geometry\"\n",
       "\n",
       "$OBJECTID\n",
       "[1] \"Integer\"\n",
       "\n",
       "$RouteNm\n",
       "[1] \"String\"\n",
       "\n",
       "$LABEL\n",
       "[1] \"String\"\n",
       "\n",
       "$BEG_MP\n",
       "[1] \"Double\"\n",
       "\n",
       "$END_MP\n",
       "[1] \"Double\"\n",
       "\n",
       "$DESCRIP\n",
       "[1] \"String\"\n",
       "\n",
       "$REGION\n",
       "[1] \"Integer\"\n",
       "\n",
       "$AVG_AADT\n",
       "[1] \"Double\"\n",
       "\n",
       "$FC_NAME\n",
       "[1] \"String\"\n",
       "\n",
       "$TOT_C\n",
       "[1] \"Integer\"\n",
       "\n",
       "$C_MI\n",
       "[1] \"Double\"\n",
       "\n",
       "$C_SCORE\n",
       "[1] \"Integer\"\n",
       "\n",
       "$PROTECTED\n",
       "[1] \"String\"\n",
       "\n",
       "$State_FA\n",
       "[1] \"String\"\n"
      ]
     },
     "metadata": {},
     "output_type": "display_data"
    },
    {
     "data": {
      "text/html": [
       "<dl>\n",
       "\t<dt>$type</dt>\n",
       "\t\t<dd>'Polyline'</dd>\n",
       "\t<dt>$hasZ</dt>\n",
       "\t\t<dd>FALSE</dd>\n",
       "\t<dt>$hasM</dt>\n",
       "\t\t<dd>FALSE</dd>\n",
       "\t<dt>$WKT</dt>\n",
       "\t\t<dd>'PROJCS[\"NAD_1983_UTM_Zone_12N\",GEOGCS[\"GCS_North_American_1983\",DATUM[\"D_North_American_1983\",SPHEROID[\"GRS_1980\",6378137.0,298.257222101]],PRIMEM[\"Greenwich\",0.0],UNIT[\"Degree\",0.0174532925199433]],PROJECTION[\"Transverse_Mercator\"],PARAMETER[\"False_Easting\",500000.0],PARAMETER[\"False_Northing\",0.0],PARAMETER[\"Central_Meridian\",-111.0],PARAMETER[\"Scale_Factor\",0.9996],PARAMETER[\"Latitude_Of_Origin\",0.0],UNIT[\"Meter\",1.0]]'</dd>\n",
       "\t<dt>$WKID</dt>\n",
       "\t\t<dd>26912</dd>\n",
       "</dl>\n"
      ],
      "text/latex": [
       "\\begin{description}\n",
       "\\item[\\$type] 'Polyline'\n",
       "\\item[\\$hasZ] FALSE\n",
       "\\item[\\$hasM] FALSE\n",
       "\\item[\\$WKT] 'PROJCS{[}\"NAD\\_1983\\_UTM\\_Zone\\_12N\",GEOGCS{[}\"GCS\\_North\\_American\\_1983\",DATUM{[}\"D\\_North\\_American\\_1983\",SPHEROID{[}\"GRS\\_1980\",6378137.0,298.257222101{]}{]},PRIMEM{[}\"Greenwich\",0.0{]},UNIT{[}\"Degree\",0.0174532925199433{]}{]},PROJECTION{[}\"Transverse\\_Mercator\"{]},PARAMETER{[}\"False\\_Easting\",500000.0{]},PARAMETER{[}\"False\\_Northing\",0.0{]},PARAMETER{[}\"Central\\_Meridian\",-111.0{]},PARAMETER{[}\"Scale\\_Factor\",0.9996{]},PARAMETER{[}\"Latitude\\_Of\\_Origin\",0.0{]},UNIT{[}\"Meter\",1.0{]}{]}'\n",
       "\\item[\\$WKID] 26912\n",
       "\\end{description}\n"
      ],
      "text/markdown": [
       "$type\n",
       ":   'Polyline'\n",
       "$hasZ\n",
       ":   FALSE\n",
       "$hasM\n",
       ":   FALSE\n",
       "$WKT\n",
       ":   'PROJCS[\"NAD_1983_UTM_Zone_12N\",GEOGCS[\"GCS_North_American_1983\",DATUM[\"D_North_American_1983\",SPHEROID[\"GRS_1980\",6378137.0,298.257222101]],PRIMEM[\"Greenwich\",0.0],UNIT[\"Degree\",0.0174532925199433]],PROJECTION[\"Transverse_Mercator\"],PARAMETER[\"False_Easting\",500000.0],PARAMETER[\"False_Northing\",0.0],PARAMETER[\"Central_Meridian\",-111.0],PARAMETER[\"Scale_Factor\",0.9996],PARAMETER[\"Latitude_Of_Origin\",0.0],UNIT[\"Meter\",1.0]]'\n",
       "$WKID\n",
       ":   26912\n",
       "\n",
       "\n"
      ],
      "text/plain": [
       "geometry type   : Polyline\n",
       "WKT             : PROJCS[\"NAD_1983_UTM_Zone_12N\",GEOGCS[\"GCS_North_American_19...\n",
       "WKID            : 26912 "
      ]
     },
     "metadata": {},
     "output_type": "display_data"
    }
   ],
   "source": [
    "crashes_arc <- arc.open(\"data/crashes_per_mile.shp\")\n",
    "crashes_arc@extent\n",
    "crashes_arc@fields\n",
    "crashes_arc@shapeinfo"
   ]
  },
  {
   "cell_type": "markdown",
   "metadata": {},
   "source": [
    "If you wish to learn more, check out our documentation by running the following line in the R code box below:"
   ]
  },
  {
   "cell_type": "code",
   "execution_count": 27,
   "metadata": {},
   "outputs": [],
   "source": [
    "?arc.open()"
   ]
  },
  {
   "cell_type": "markdown",
   "metadata": {},
   "source": [
    " ### Practice Session: Read "
   ]
  },
  {
   "cell_type": "markdown",
   "metadata": {},
   "source": [
    "Test out your understanding by selecting one (or multiple) of the layers stored within the `'data/data.gdb'` to read in using the `arc.open()` function. Pick from any of the following:\n",
    "\n",
    "* Point Layers\n",
    "  * African_Buffalo_Locations\n",
    "  * Billboard_Faces\n",
    "  * San_Francisco_Crimes\n",
    "\n",
    "* Raster Layers\n",
    "  * World_Bioclimates_Study_Area_SM\n",
    "  * World_Distance_to_Water_Stud_SM\n",
    "  * World_Ecological_Facets_Stud_SM\n",
    "  * World_Land_Cover_Study_Area_SM\n",
    "  * World_Lithology_Study_Area_0_SM\n",
    "\n",
    "Practice in the R code box below. If you get stuck or want a hint, take a peek at the code solution hidden below. Feel free to play around with other useful R functions like `class()` or `str()` to explore different attributes about the results from the `arc.open()` function. \n",
    "\n",
    "> Note: If you select a raster layer to practice with, instead of looking at the extent, fields and shapeinfo of your `arc.open()` object, investigate the extent, bands, and pixel_type. Feel free to use `str()` to find other attributes to explore. "
   ]
  },
  {
   "cell_type": "code",
   "execution_count": null,
   "metadata": {},
   "outputs": [],
   "source": []
  },
  {
   "cell_type": "markdown",
   "metadata": {},
   "source": [
    "Practice Session Solution\n",
    "\n",
    "<details>\n",
    "    ```R\n",
    "    african_buffalo_arc <- arc.open(\"data/data.gdb/African_Buffalo_Locations\")\n",
    "    billboard_faces_arc <- arc.open(\"data/data.gdb/Billboard_Faces\")\n",
    "    sanfran_crime_arc <- arc.open(\"data/data.gdb/San_Francisco_Crimes\")\n",
    "    bioclimates_arc <- arc.open(\"data/data.gdb/World_Bioclimates_Study_Area_SM\")\n",
    "    distance_to_water_arc <- arc.open(\"data/data.gdb/World_Distance_to_Water_Stud_SM\")\n",
    "    ecological_facets_arc <- arc.open(\"data/data.gdb/World_Ecological_Facets_Stud_SM\")\n",
    "    landcover_arc <- arc.open(\"data/data.gdb/World_Land_Cover_Study_Area_SM\")\n",
    "    lithology_arc <- arc.open(\"data/data.gdb/World_Lithology_Study_Area_0_SM\")\n",
    "    \n",
    "    lithology_arc@extent\n",
    "    lithology_arc@bands\n",
    "    lithology_arc@pixel_type\n",
    "    ```"
   ]
  },
  {
   "cell_type": "markdown",
   "metadata": {},
   "source": [
    "## Manipulate: Manipulating ArcGIS Data In R\n",
    "\n",
    "### Vector Data\n",
    "\n",
    "#### arc.select Functionality\n",
    "\n",
    "The `arc.select` function can be used to obtain your data set in an R data frame object. This function also offers you the ability to choose specific attributes from your data set to work with and the ability to construct SQL queries to only bring in certain observations based on the criteria of your analysis. For example, we can select six of the nine attributes from the `ozone.arc.dataset` object and elect to examine only those observations with an elevation of 1000 meters or greater. \n",
    "\n",
    "```R\n",
    "ozone.dataframe <- arc.select(object = ozone.arc.dataset, fields = c(\"FID\", \"Shape\", \"LATITUDE\", \"LONGITUDE\", \"ELEVATION\", \"OZONE\"), where_clause = \"ELEVATION >= 1000\")\n",
    "head(ozone.dataframe)\n",
    "```\n",
    "\n",
    "##### Column Selections\n",
    "\n",
    "##### Data Subsets With SQL Queries\n",
    "\n",
    "##### Reprojecting\n",
    "\n",
    "#### arc.data2sp Functionality\n",
    "\n",
    "#### arc.data2sf Functionality\n",
    "\n",
    "#### Practice Session: Vector Manipulations\n"
   ]
  },
  {
   "cell_type": "code",
   "execution_count": null,
   "metadata": {},
   "outputs": [],
   "source": []
  },
  {
   "cell_type": "markdown",
   "metadata": {},
   "source": [
    "### Raster Data\n",
    "\n",
    "#### arc.raster Functionality\n",
    "\n",
    "##### Pixel Selections\n",
    "\n",
    "##### Pixel Type Adjustments\n",
    "\n",
    "##### Resampling\n",
    "\n",
    "##### Reprojecting\n",
    "\n",
    "#### as.raster Functionality\n",
    "\n",
    "#### Mosaic Datasets\n",
    "\n",
    "#### Practice Session: Raster Manipulations\n"
   ]
  },
  {
   "cell_type": "code",
   "execution_count": null,
   "metadata": {},
   "outputs": [],
   "source": []
  },
  {
   "cell_type": "markdown",
   "metadata": {},
   "source": [
    "## Write: Writing R Data Into ArcGIS\n",
    "\n",
    "When you are finished working in R, it is likely you will wish to transfer your results back into ArcGIS either for future analysis or to map and share the final results. In which case, the `arc.write()` function is here to help. \n",
    "\n",
    "### arc.write Functionality\n",
    "\n",
    "The `arc.write()` function allows you to easily save your data to shapefile, geodatabase, table, or supported raster data type of your choice. The first argument is the path for the location of the ArcGIS project you wish to write your new results to along with the file extension you want. The second argument specifies the R object you are writing to this new location. Additional optional parameters allow you to provide the geometry type and spatial reference for your data, if desired. \n",
    "\n",
    "In the example below, the <todo: select dataset> object is being written out to our data folder as a shapefile. This example could also easily be modified to write to a file geodatabase by changing the path to `'data/data.gdb/writing_practice'`, if desired. \n",
    "\n",
    "```R\n",
    "arc.write(\"data/writing_practice.shp\", <todo: select dataset>)\n",
    "```\n",
    "\n",
    "The `arc.write` function has also been designed with data generation in mind. For example, the function can be used to create new features in ArcGIS as demonstrated below where the `arc.write` function creates 100 uniformly distributed points in a unit square from a normal distribution.\n",
    "\n",
    "```R\n",
    "arc.write(\"data/new_pts.shp\", data = list('data'=rnorm(100)),\n",
    "          coords = list(x=runif(100,min=0,max=1),y=runif(100,min=0,max=1)),\n",
    "          shape_info = list(type='Point'))\n",
    "\n",
    "```"
   ]
  },
  {
   "cell_type": "markdown",
   "metadata": {},
   "source": [
    "If you wish to learn more, check out our documentation by running the following line in the R code box below:"
   ]
  },
  {
   "cell_type": "code",
   "execution_count": 30,
   "metadata": {},
   "outputs": [],
   "source": [
    "?arc.write()"
   ]
  },
  {
   "cell_type": "markdown",
   "metadata": {},
   "source": [
    "### Practice Session: Write"
   ]
  },
  {
   "cell_type": "markdown",
   "metadata": {},
   "source": [
    "Test out your understanding by selecting one (or multiple) of the data sets you have been working with today to write to a location and extension of your choice. Pick from any of the following:\n",
    "\n",
    "* Vector Layers\n",
    "\n",
    "\n",
    "* Raster Layers\n",
    "\n",
    "\n",
    "When practicing writing, you can pick from any of the file locations and extensions below:\n",
    "\n",
    "* Vector Layers\n",
    "  * data/<insert_name_here>.shp\n",
    "  * data/data.gdb/<insert_name_here>\n",
    "\n",
    "\n",
    "* Raster Layers\n",
    "  * data/<insert_name_here.tif>\n",
    "  * data/<insert_name_here.img>\n",
    "  * data/data.gdb/<insert_name_here>\n",
    "\n",
    "Practice in the R code box below. If you get stuck or want a hint, take a peek at the code solution hidden below. Feel free to practice writing to a path associated with an ArcMap or ArcGIS Pro project and once written, bringing that data into a map. \n",
    "\n",
    "> Note: If you are writing to an ArcMap or ArcGIS Pro project, make sure you refresh the folder or file geodatabase you have written to in order to view your data. "
   ]
  },
  {
   "cell_type": "code",
   "execution_count": null,
   "metadata": {},
   "outputs": [],
   "source": []
  },
  {
   "cell_type": "markdown",
   "metadata": {},
   "source": [
    "Practice Session Solution\n",
    "\n",
    "<details>"
   ]
  },
  {
   "cell_type": "markdown",
   "metadata": {},
   "source": [
    "## Delete: Remove and Replace Data\n",
    "\n",
    "Occassionally, we make mistakes and create something we wish to overwrite. In these cases, you can do this by first removing your unwanted data using `arc.delete()`. \n",
    "\n",
    "### arc.delete Functionality\n",
    "\n",
    "If you have generated output through the `arc.write()` function that you wish to overwrite or remove, you can use the `arc.delete()` function to either permanently delete the previously created output or to delete the old output prior to recreating it again with 'arc.write'.  \n",
    "\n",
    "```R\n",
    "arc.delete(\"data/new_pts.shp\")\n",
    "\n",
    "```"
   ]
  },
  {
   "cell_type": "markdown",
   "metadata": {},
   "source": [
    "### Practice Session: Delete"
   ]
  },
  {
   "cell_type": "markdown",
   "metadata": {},
   "source": [
    "Test out your understanding by selecting one (or multiple) of the data sets you created using `arc.write()` and deleting them.  \n",
    "\n",
    "When practicing deleting, keep in mind the location, file name, and extension you used when originally writing out the data. Some likely file locations and extensions you might have used are listed below: \n",
    "\n",
    "* Vector Layers\n",
    "  * data/<insert_name_here>.shp\n",
    "  * data/data.gdb/<insert_name_here>\n",
    "\n",
    "\n",
    "* Raster Layers\n",
    "  * data/<insert_name_here.tif>\n",
    "  * data/<insert_name_here.img>\n",
    "  * data/data.gdb/<insert_name_here>\n",
    "\n",
    "Practice in the R code box below. If you get stuck or want a hint, take a peek at the code solution hidden below. Feel free to practice deleting a data set you wrote to a path associated with an ArcMap or ArcGIS Pro project and once deleted, checking the location inside your project's catalog pane and folder tree to ensure it is gone. \n",
    "\n",
    "> Note: If you are deleting a data set in a folder associated with an ArcMap or ArcGIS Pro project, make sure you refresh the folder or file geodatabase before checking if it deleted. "
   ]
  },
  {
   "cell_type": "code",
   "execution_count": null,
   "metadata": {},
   "outputs": [],
   "source": []
  },
  {
   "cell_type": "markdown",
   "metadata": {},
   "source": [
    "Practice Session Solution\n",
    "\n",
    "<details>"
   ]
  }
 ],
 "metadata": {
  "kernelspec": {
   "display_name": "R",
   "language": "R",
   "name": "ir"
  },
  "language_info": {
   "codemirror_mode": "r",
   "file_extension": ".r",
   "mimetype": "text/x-r-source",
   "name": "R",
   "pygments_lexer": "r",
   "version": "3.4.3"
  }
 },
 "nbformat": 4,
 "nbformat_minor": 2
}
