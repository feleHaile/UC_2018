{
 "cells": [
  {
   "cell_type": "markdown",
   "metadata": {},
   "source": [
    "# Read, manipulate, and write data - Solution\n",
    "\n",
    "See below for the solutions to the hands-on practice sessions for various topics pertaining to **arcgisbinding** package functionality.\n",
    "\n",
    " - [Read: Reading ArcGIS Data Into R](#Read:-Reading-ArcGIS-Data-Into-R)  \n",
    "  - [Practice Session Solution: Read](#Practice-Session-Solution:-Read)\n",
    " - [Manipulate: Manipulating ArcGIS Data In R](#Manipulate:-Manipulating-ArcGIS-Data-In-R)\n",
    "  - [Practice Session Solution: Vector Manipulations](#Practice-Session-Solution:-Vector-Manipulations)\n",
    "  - [Practice Session Solution: Raster Manipulations](#Practice-Session-Solution:-Raster-Manipulations)\n",
    " - [Write: Writing R Data Into ArcGIS](#Write:-Writing-R-Data-Into-ArcGIS)  \n",
    "  - [Practice Session Solution: Write](#Practice-Session-Solution:-Write)\n",
    " - [Delete: Remove and Replace Data](#Delete:-Remove-and-Replace-Data)\n",
    "  - [Practice Session Solution: Delete](#Practice-Session-Solution:-Delete)"
   ]
  },
  {
   "cell_type": "markdown",
   "metadata": {},
   "source": [
    "## Read: Reading ArcGIS Data Into R\n",
    "\n",
    "The same data used in this Jupyter Notebook has been placed onto your machine for this preconference seminar. You can access this data by going to the following location `C:/data/`. To test out your understanding, open R or RStudio and select one (or multiple) of the layers stored within the `'C:/data/data.gdb'` to read in using the `arc.open()` function. \n",
    "\n",
    "> Note: If needed, make use of the R functions `getwd()` and `setwd()` if you wish to use relative instead of absolute paths. \n",
    "\n",
    "Pick from any of the following data layers:\n",
    "\n",
    "* Vector Layers\n",
    "  * African_Buffalo_Locations\n",
    "  * Billboard_Faces\n",
    "  * San_Francisco_Crimes\n",
    "\n",
    "* Raster Layers\n",
    "  * World_Bioclimates_Study_Area_SM\n",
    "  * World_Distance_to_Water_Stud_SM\n",
    "  * World_Ecological_Facets_Stud_SM\n",
    "  * World_Land_Cover_Study_Area_SM\n",
    "  * World_Lithology_Study_Area_0_SM\n",
    "\n",
    "Practice in R or RStudio, and if you get stuck or want a hint, get to know your neighbor or ask one of us. The code solution for this exercise will be provided towards the end of our hands-on practice session.  \n",
    "\n",
    "After you have successfully used the `arc.open()` function, feel free to play around with other useful R functions like `class()` or `str()` to explore different attributes about the results from the `arc.open()` function. \n",
    "\n",
    "> Note: If you select a raster layer to practice with, instead of looking at the extent, fields and shapeinfo of your `arc.open()` object, investigate the extent, bands, and pixel_type. Feel free to use `str()` to find other attributes to explore. "
   ]
  },
  {
   "cell_type": "markdown",
   "metadata": {},
   "source": [
    "### Practice Session Solution: Read\n",
    "\n",
    "<details>\n",
    "    ```R\n",
    "    #Vector layers\n",
    "    african_buffalo_arc <- arc.open(\"C:/data/data.gdb/African_Buffalo_Locations\")\n",
    "    billboard_faces_arc <- arc.open(\"C:/data/data.gdb/Billboard_Faces\")\n",
    "    sanfran_crime_arc <- arc.open(\"C:/data/data.gdb/San_Francisco_Crimes\")\n",
    "                         \n",
    "    sanfran_crime_arc@extent\n",
    "    sanfran_crime_arc@fields\n",
    "    san_fran_crime_arc@shapeinfo\n",
    "    \n",
    "    #Raster layers\n",
    "    bioclimates_arc <- arc.open(\"C:/data/data.gdb/World_Bioclimates_Study_Area_SM\")\n",
    "    distance_to_water_arc <- arc.open(\"C:/data/data.gdb/World_Distance_to_Water_Stud_SM\")\n",
    "    ecological_facets_arc <- arc.open(\"C:/data/data.gdb/World_Ecological_Facets_Stud_SM\")\n",
    "    landcover_arc <- arc.open(\"C:/data/data.gdb/World_Land_Cover_Study_Area_SM\")\n",
    "    lithology_arc <- arc.open(\"C:/data/data.gdb/World_Lithology_Study_Area_0_SM\")\n",
    "    \n",
    "    lithology_arc@extent\n",
    "    lithology_arc@bands\n",
    "    lithology_arc@pixel_type\n",
    "    ```"
   ]
  },
  {
   "cell_type": "markdown",
   "metadata": {},
   "source": [
    "## Manipulate: Manipulating ArcGIS Data In R\n",
    "\n",
    "In R or RStudio, test out your understanding by selecting one (or multiple) of the vector layers stored within `'C:/data/data.gdb'` to practice using the `arc.select()` function. You can pick from any of the following:\n",
    "\n",
    "* Vector Layers\n",
    "  * African_Buffalo_Locations\n",
    "  * Billboard_Faces\n",
    "  * San_Francisco_Crimes\n",
    "\n",
    "Practice in R or RStudio, and if you get stuck or want a hint, get to know your neighbor or ask one of us. The code solution for this exercise will be provided towards the end of our hands-on practice session. \n",
    "\n",
    "If you are looking for an idea, start by trying the following on San_Francisco_Crimes:\n",
    "* Craft an `arc.select()` function call to only bring in the columns OBJECTID, Dates, Category, DayOfWeek, PdDistrict, and Address columns. \n",
    "* Craft an `arc.select()` function call to select only rows pertaining to a crime of Category 'ASSAULT'. \n",
    "* Craft an `arc.select()` function call to reproject the R data frame for your San_Francisco_Crimes data to [ESPG: 2227](http://spatialreference.org/ref/epsg/2227/)"
   ]
  },
  {
   "cell_type": "markdown",
   "metadata": {},
   "source": [
    "### Practice Session Solution: Vector Manipulations\n",
    "\n",
    "<details>\n",
    "    ```R\n",
    "    sanfran_crime_df1 <- arc.select(arc.open(\"C:/data/data.gdb/San_Francisco_Crimes\"), c(\"OBJECTID\", \"Dates\", \"Category\", \"DayOfWeek\", \"PdDistrict\", \"Address\"))\n",
    "                         \n",
    "    sanfran_crime_df2 <- arc.select(arc.open(\"C:/data/data.gdb/San_Francisco_Crimes\"), where_clause = \"Category = 'ASSAULT'\")\n",
    "    \n",
    "    sanfran_crime_df3 <- arc.select(arc.open(\"C:/data/data.gdb/San_Francisco_Crimes\"), sr = 2227)\n",
    "    str(sanfran_crime_df3)\n",
    "\n",
    "    ```"
   ]
  },
  {
   "cell_type": "markdown",
   "metadata": {},
   "source": [
    "## Manipulate: Manipulating ArcGIS Data In R\n",
    "\n",
    "In R or RStudio, test out your understanding by selecting one (or multiple) of the raster layers stored within `'C:/data/data.gdb'` to practice using the `arc.raster()` and `as.raster()` functions on. You can pick from any of the following:\n",
    "\n",
    "* Raster Layers\n",
    "  * World_Bioclimates_Study_Area_SM\n",
    "  * World_Distance_to_Water_Stud_SM\n",
    "  * World_Ecological_Facets_Stud_SM\n",
    "  * World_Land_Cover_Study_Area_SM\n",
    "  * World_Lithology_Study_Area_0_SM\n",
    "\n",
    "Practice in R or RStudio, and if you get stuck or want a hint, get to know your neighbor or ask one of us. The code solution for this exercise will be provided towards the end of our hands-on practice session. \n",
    "\n",
    "If you are looking for an idea, start by trying the following on World_Lithology_Study_Area_0_SM:\n",
    "* Craft an `arc.raster()` function call to bring in a 100 x 100 selection of the World Lithology layer. \n",
    "* Craft an `arc.raster()` function call to adjust the extent of the World Lithology Layer to have the following values: xmin:30.5, xmax:33, ymin:-25.5, ymax:-24.5. \n",
    "* Craft an `arc.raster()` function call to bring in a 100 x 100 selection of the World Lithology layer and to resample using the NearestNeighbor method. "
   ]
  },
  {
   "cell_type": "markdown",
   "metadata": {},
   "source": [
    "### Practice Session Solution: Raster Manipulations\n",
    "\n",
    "<details>\n",
    "    ```R\n",
    "    lithology_ras <- arc.raster(arc.open(\"C:/data/data.gdb/World_Lithology_Study_Area_0_SM\"), nrow = 100, ncol = 100)\n",
    "    dim(lithology_ras)\n",
    "                     \n",
    "    lithology_ras <- as.raster(arc.raster(arc.open(\"C:/data/data.gdb/World_Lithology_Study_Area_0_SM\"), extent = c(33, -24.5, 30.5, -25.5)))\n",
    "    lithology_ras@extent\n",
    "    \n",
    "    lithology_ras <- as.raster(arc.raster(arc.open(\"C:/data/data.gdb/World_Lithology_Study_Area_0_SM\"), nrow = 100, ncol = 100), resample_type = \"NearestNeighbor\")\n",
    "    ```"
   ]
  },
  {
   "cell_type": "markdown",
   "metadata": {},
   "source": [
    "## Write: Writing R Data Into ArcGIS\n",
    "\n",
    "Test out your understanding by selecting one (or multiple) of the data sets you have been working with today to write to a location and extension of your choice. \n",
    "\n",
    "When practicing writing, you can pick from any of the file locations and extensions below:\n",
    "\n",
    "* Vector Layers\n",
    "  * C:/data/<insert_name_here>.shp\n",
    "  * C:/data/data.gdb/<insert_name_here>\n",
    "\n",
    "\n",
    "* Raster Layers\n",
    "  * C:/data/<insert_name_here.tif>\n",
    "  * C:/data/<insert_name_here.img>\n",
    "  * ...\n",
    "  * C:/data/data.gdb/<insert_name_here>\n",
    "  \n",
    "Practice in R or RStudio, and if you get stuck or want a hint, get to know your neighbor or ask one of us. The code solution for this exercise will be provided towards the end of our hands-on practice session. Feel free to practice writing to a path associated with an ArcMap or ArcGIS Pro project and once written, bringing that data into a map. \n",
    "\n",
    "> Note: If you are writing to an ArcMap or ArcGIS Pro project, make sure you refresh the folder or file geodatabase you have written to in order to view your data. \n",
    "\n",
    "If you are looking for an idea, start by trying to write the below R _RasterLayer_ to a location of your choice with an extension of .png:\n",
    "\n",
    "```R\n",
    "distance_to_water_ras <- as.raster(arc.raster(arc.open(\"data/data.gdb/World_Distance_to_Water_Stud_SM\"), nrow = 100, ncol = 100))\n",
    "```"
   ]
  },
  {
   "cell_type": "markdown",
   "metadata": {},
   "source": [
    "### Practice Session Solution: Write\n",
    "\n",
    "<details>\n",
    "    \n",
    "    ```R\n",
    "    #distance_to_water_ras <- as.raster(arc.raster(arc.open(\"data/data.gdb/World_Distance_to_Water_Stud_SM\"), nrow = 100, ncol = 100))\n",
    "    arc.write(\"C:/data/RasterTest.png\", distance_to_water_ras)\n",
    "    ```"
   ]
  },
  {
   "cell_type": "markdown",
   "metadata": {},
   "source": [
    "## Delete: Remove and Replace Data\n",
    "\n",
    "Test out your understanding by selecting one (or multiple) of the data sets you created using `arc.write()` and deleting them.  \n",
    "\n",
    "When practicing deleting, keep in mind the location, file name, and extension you used when originally writing out the data. Some likely file locations and extensions you might have used are listed below: \n",
    "\n",
    "* Vector Layers\n",
    "  * C:/data/<insert_name_here>.shp\n",
    "  * C:/data/data.gdb/<insert_name_here>\n",
    "\n",
    "\n",
    "* Raster Layers\n",
    "  * C:/data/<insert_name_here.tif>\n",
    "  * C:/data/<insert_name_here.img>\n",
    "  * ...\n",
    "  * C:/data/data.gdb/<insert_name_here>\n",
    "  \n",
    "Practice in R or RStudio, and if you get stuck or want a hint, get to know your neighbor or ask one of us. The code solution for this exercise will be provided towards the end of our hands-on practice session. Feel free to practice deleting a data set you wrote to a path associated with an ArcMap or ArcGIS Pro project and once deleted, checking the location inside your project's catalog pane and folder tree to ensure it is gone.  \n",
    "\n",
    "> Note: If you are deleting a data set in a folder associated with an ArcMap or ArcGIS Pro project, make sure you refresh the folder or file geodatabase before checking if it deleted. \n",
    "\n",
    "If you are looking for an idea, start by trying to delete the layer created below:\n",
    "\n",
    "```R\n",
    "    #distance_to_water_ras <- as.raster(arc.raster(arc.open(\"data/data.gdb/World_Distance_to_Water_Stud_SM\"), nrow = 100, ncol = 100))\n",
    "    arc.write(\"C:/data/RasterTest.png\", distance_to_water_ras)\n",
    "```"
   ]
  },
  {
   "cell_type": "markdown",
   "metadata": {},
   "source": [
    "### Practice Session Solution: Delete\n",
    "\n",
    "<details>\n",
    "    \n",
    "    ```R\n",
    "    arc.delete(\"C:/data/RasterTest.png\")\n",
    "    ```"
   ]
  },
  {
   "cell_type": "code",
   "execution_count": null,
   "metadata": {},
   "outputs": [],
   "source": []
  }
 ],
 "metadata": {
  "kernelspec": {
   "display_name": "R",
   "language": "R",
   "name": "ir"
  },
  "language_info": {
   "codemirror_mode": "r",
   "file_extension": ".r",
   "mimetype": "text/x-r-source",
   "name": "R",
   "pygments_lexer": "r",
   "version": "3.4.3"
  }
 },
 "nbformat": 4,
 "nbformat_minor": 2
}
