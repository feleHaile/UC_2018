{
 "cells": [
  {
   "cell_type": "code",
   "execution_count": 1,
   "metadata": {},
   "outputs": [
    {
     "name": "stderr",
     "output_type": "stream",
     "text": [
      "Warning message:\n",
      "\"package 'arcgisbinding' was built under R version 3.5.0\"*** Please call arc.check_product() to define a desktop license.\n"
     ]
    },
    {
     "data": {
      "text/html": [
       "<dl>\n",
       "\t<dt>$license</dt>\n",
       "\t\t<dd>'Advanced'</dd>\n",
       "\t<dt>$version</dt>\n",
       "\t\t<dd>'12.2.0.12813'</dd>\n",
       "\t<dt>$path</dt>\n",
       "\t\t<dd>'C:\\\\ArcGIS\\\\Pro\\\\'</dd>\n",
       "\t<dt>$dll</dt>\n",
       "\t\t<dd>'rarcproxy_pro'</dd>\n",
       "\t<dt>$app</dt>\n",
       "\t\t<dd>'ArcGIS Pro'</dd>\n",
       "\t<dt>$pkg_ver</dt>\n",
       "\t\t<dd>'1.0.1.230'</dd>\n",
       "</dl>\n"
      ],
      "text/latex": [
       "\\begin{description}\n",
       "\\item[\\$license] 'Advanced'\n",
       "\\item[\\$version] '12.2.0.12813'\n",
       "\\item[\\$path] 'C:\\textbackslash{}\\textbackslash{}ArcGIS\\textbackslash{}\\textbackslash{}Pro\\textbackslash{}\\textbackslash{}'\n",
       "\\item[\\$dll] 'rarcproxy\\_pro'\n",
       "\\item[\\$app] 'ArcGIS Pro'\n",
       "\\item[\\$pkg\\_ver] '1.0.1.230'\n",
       "\\end{description}\n"
      ],
      "text/markdown": [
       "$license\n",
       ":   'Advanced'\n",
       "$version\n",
       ":   '12.2.0.12813'\n",
       "$path\n",
       ":   'C:\\\\ArcGIS\\\\Pro\\\\'\n",
       "$dll\n",
       ":   'rarcproxy_pro'\n",
       "$app\n",
       ":   'ArcGIS Pro'\n",
       "$pkg_ver\n",
       ":   '1.0.1.230'\n",
       "\n",
       "\n"
      ],
      "text/plain": [
       "product: ArcGIS Pro ( 12.2.0.12813 )\n",
       "license: Advanced \n",
       "version: 1.0.1.230 "
      ]
     },
     "metadata": {},
     "output_type": "display_data"
    }
   ],
   "source": [
    "library(arcgisbinding)\n",
    "arc.check_product()"
   ]
  },
  {
   "cell_type": "markdown",
   "metadata": {},
   "source": [
    "### Raster Data\n",
    "\n",
    "The R-ArcGIS bridge recently expanded its capabilities to include working with raster data. This means that the **arcgisbinding** package has been updated to include some new functions specific for manipulating and converting ArcGIS raster layers into R recognized raster objects (from the R package **raster**). If you have an older version of the bridge, you will need to update your **arcgisbinding** package in order to access this functionality. For information on how to do so, see the section on upgrading the **arcgisbinding** package in the Jupyter Notebook R-bridge-install-and-setup. \n",
    "\n",
    "#### arc.raster Functionality\n",
    "\n",
    "While the `arc.open()` function works with all ArcGIS data types, whether vector or raster, to establish a connection to your desired ArcGIS data, the **arcgisbinding** package has seperate functions for converting and manipulating data depending on the type of data you wish to bring into R. The `arc.raster()` function is what is used for converting and manipulating a raster layer contained within any type of ArcGIS supported format before finishing the conversion process into R using the `as.raster()` function. \n",
    "\n",
    "To begin, let's start with the simplest use case. We simply wish to convert an ArcGIS raster layer into an R recognized raster object. In this case, after using the `arc.open()` function to establish a connection with our desired data set, we can use the `arc.raster()` function on the result generated from `arc.open()`, followed by the `as.raster()` function, to convert our data into an R raster object. If we are working with a single band, the result will be a _RasterLayer_ object. If we are working with multiple bands, the results will be a _RasterBrick_ object. Let's take our `World_Distance_to_Waster_Stud_SM` file geodatabase raster as an example:\n",
    "\n",
    "```R\n",
    "distance_to_water_ras <- as.raster(arc.raster(arc.open(\"data/data.gdb/World_Distance_to_Water_Stud_SM\")))\n",
    "```\n",
    "\n",
    "Our `World_Distance_to_Waster_Stud_SM` file geodatabase raster is now in R as a _RasterLayer_ and any R function that takes a **raster** package object as part of its arguments can now be used on it. To check this, we can run the following line in R and check the class of the resulting object. \n"
   ]
  },
  {
   "cell_type": "code",
   "execution_count": 11,
   "metadata": {},
   "outputs": [
    {
     "data": {
      "text/html": [
       "'RasterLayer'"
      ],
      "text/latex": [
       "'RasterLayer'"
      ],
      "text/markdown": [
       "'RasterLayer'"
      ],
      "text/plain": [
       "[1] \"RasterLayer\"\n",
       "attr(,\"package\")\n",
       "[1] \"raster\""
      ]
     },
     "metadata": {},
     "output_type": "display_data"
    },
    {
     "name": "stdout",
     "output_type": "stream",
     "text": [
      "Formal class 'RasterLayer' [package \"raster\"] with 12 slots\n",
      "  ..@ file    :Formal class '.RasterFile' [package \"raster\"] with 13 slots\n",
      "  .. .. ..@ name        : chr \"\"\n",
      "  .. .. ..@ datanotation: chr \"INT1U\"\n",
      "  .. .. ..@ byteorder   : chr \"little\"\n",
      "  .. .. ..@ nodatavalue : num NA\n",
      "  .. .. ..@ NAchanged   : logi FALSE\n",
      "  .. .. ..@ nbands      : int 1\n",
      "  .. .. ..@ bandorder   : chr \"BIL\"\n",
      "  .. .. ..@ offset      : int 0\n",
      "  .. .. ..@ toptobottom : logi TRUE\n",
      "  .. .. ..@ blockrows   : int 0\n",
      "  .. .. ..@ blockcols   : int 0\n",
      "  .. .. ..@ driver      : chr \"\"\n",
      "  .. .. ..@ open        : logi FALSE\n",
      "  ..@ data    :Formal class '.SingleLayerData' [package \"raster\"] with 13 slots\n",
      "  .. .. ..@ values    : int [1:30250] 15 14 14 13 11 9 8 7 5 4 ...\n",
      "  .. .. ..@ offset    : num 0\n",
      "  .. .. ..@ gain      : num 1\n",
      "  .. .. ..@ inmemory  : logi TRUE\n",
      "  .. .. ..@ fromdisk  : logi FALSE\n",
      "  .. .. ..@ isfactor  : logi FALSE\n",
      "  .. .. ..@ attributes: list()\n",
      "  .. .. ..@ haveminmax: logi TRUE\n",
      "  .. .. ..@ min       : int 0\n",
      "  .. .. ..@ max       : int 128\n",
      "  .. .. ..@ band      : int 1\n",
      "  .. .. ..@ unit      : chr \"\"\n",
      "  .. .. ..@ names     : chr \"Band_1\"\n",
      "  ..@ legend  :Formal class '.RasterLegend' [package \"raster\"] with 5 slots\n",
      "  .. .. ..@ type      : chr(0) \n",
      "  .. .. ..@ values    : logi(0) \n",
      "  .. .. ..@ color     : logi(0) \n",
      "  .. .. ..@ names     : logi(0) \n",
      "  .. .. ..@ colortable: chr [1:3018] \"#3e497d\" \"#3e497d\" \"#3e497d\" \"#3e497d\" ...\n",
      "  ..@ title   : chr(0) \n",
      "  ..@ extent  :Formal class 'Extent' [package \"raster\"] with 4 slots\n",
      "  .. .. ..@ xmin: num 31\n",
      "  .. .. ..@ xmax: num 33\n",
      "  .. .. ..@ ymin: num -25.5\n",
      "  .. .. ..@ ymax: num -24.5\n",
      "  ..@ rotated : logi FALSE\n",
      "  ..@ rotation:Formal class '.Rotation' [package \"raster\"] with 2 slots\n",
      "  .. .. ..@ geotrans: num(0) \n",
      "  .. .. ..@ transfun:function ()  \n",
      "  ..@ ncols   : int 250\n",
      "  ..@ nrows   : int 121\n",
      "  ..@ crs     :Formal class 'CRS' [package \"sp\"] with 1 slot\n",
      "  .. .. ..@ projargs: chr \"+proj=longlat +ellps=WGS84 +no_defs\"\n",
      "  ..@ history : list()\n",
      "  ..@ z       : list()\n"
     ]
    }
   ],
   "source": [
    "distance_to_water_ras <- as.raster(arc.raster(arc.open(\"data/data.gdb/World_Distance_to_Water_Stud_SM\")))\n",
    "class(distance_to_water_ras)\n",
    "str(distance_to_water_ras)"
   ]
  },
  {
   "cell_type": "markdown",
   "metadata": {},
   "source": [
    "In addition to this simplest use case shown above, the `arc.raster()` function also offers advancted manipulations for raster layers. Next, we will cover some of the additional options that exist. \n",
    "\n",
    "> Note: The parameter options covered here are only some of the options that exist within the `arc.raster()` function. For full options and details, please refer to the documentation on this function. "
   ]
  },
  {
   "cell_type": "code",
   "execution_count": null,
   "metadata": {},
   "outputs": [],
   "source": [
    "?arc.raster()"
   ]
  },
  {
   "cell_type": "markdown",
   "metadata": {},
   "source": [
    "##### Pixel Selections\n",
    "\n",
    "If you only wish to bring in a subset of pixels from your raster, you can define them using the `nrow` and `ncol` parameters of the `arc.raster()` function. This can be useful if you wish to test out R functionality on a smaller subset of your raster first before bringing in the full raster layer into R. \n",
    "\n",
    "To use, simply specify the number of rows and columns you wish to bring into R. \n",
    "\n",
    "```R\n",
    "distance_to_water_ras <- as.raster(arc.raster(arc.open(\"data/data.gdb/World_Distance_to_Water_Stud_SM\"), nrow = 100, ncol = 100))\n",
    "```"
   ]
  },
  {
   "cell_type": "code",
   "execution_count": 30,
   "metadata": {},
   "outputs": [
    {
     "data": {
      "text/html": [
       "<ol class=list-inline>\n",
       "\t<li>100</li>\n",
       "\t<li>100</li>\n",
       "\t<li>1</li>\n",
       "</ol>\n"
      ],
      "text/latex": [
       "\\begin{enumerate*}\n",
       "\\item 100\n",
       "\\item 100\n",
       "\\item 1\n",
       "\\end{enumerate*}\n"
      ],
      "text/markdown": [
       "1. 100\n",
       "2. 100\n",
       "3. 1\n",
       "\n",
       "\n"
      ],
      "text/plain": [
       "[1] 100 100   1"
      ]
     },
     "metadata": {},
     "output_type": "display_data"
    }
   ],
   "source": [
    "distance_to_water_ras <- as.raster(arc.raster(arc.open(\"data/data.gdb/World_Distance_to_Water_Stud_SM\"), nrow = 100, ncol = 100))\n",
    "dim(distance_to_water_ras)"
   ]
  },
  {
   "cell_type": "markdown",
   "metadata": {},
   "source": [
    "##### Extent \n",
    "\n",
    "You can adjust the extent for the raster object you bring into R by using the `extent` parameter and specifying your desired xmax, ymax, xmin, and ymin values in a numeric vector. Order does matter here, so be mindful as you select your values. \n",
    "\n",
    "In the example below, we are adjusting the extent of our raster to have a xmax value of 31, a ymax value of 25.5, a xmin value of 30, and a ymin value of 24.5. \n",
    "\n",
    "```R\n",
    "distance_to_water_ras_extent <- as.raster(arc.raster(arc.open(\"data/data.gdb/World_Distance_to_Water_Stud_SM\"), nrow = 100, ncol = 100, extent = c(31, 25.5, 30, 24.5)))\n",
    "\n",
    "```\n",
    "\n",
    "We can test out the results in the R console below. "
   ]
  },
  {
   "cell_type": "code",
   "execution_count": 15,
   "metadata": {},
   "outputs": [
    {
     "data": {
      "text/plain": [
       "class       : Extent \n",
       "xmin        : 30.98066 \n",
       "xmax        : 32.96726 \n",
       "ymin        : -25.46767 \n",
       "ymax        : -24.50616 "
      ]
     },
     "metadata": {},
     "output_type": "display_data"
    },
    {
     "data": {
      "text/plain": [
       "class       : Extent \n",
       "xmin        : 30 \n",
       "xmax        : 31 \n",
       "ymin        : 24.5 \n",
       "ymax        : 25.5 "
      ]
     },
     "metadata": {},
     "output_type": "display_data"
    }
   ],
   "source": [
    "#Original extent values\n",
    "distance_to_water_ras <- as.raster(arc.raster(arc.open(\"data/data.gdb/World_Distance_to_Water_Stud_SM\"), nrow = 100, ncol = 100))\n",
    "distance_to_water_ras@extent\n",
    "\n",
    "#Modified extent values\n",
    "distance_to_water_ras_extent <- as.raster(arc.raster(arc.open(\"data/data.gdb/World_Distance_to_Water_Stud_SM\"), nrow = 100, ncol = 100, extent = c(31, 25.5, 30, 24.5)))\n",
    "distance_to_water_ras_extent@extent"
   ]
  },
  {
   "cell_type": "markdown",
   "metadata": {},
   "source": [
    "##### Resampling\n",
    "\n",
    "If you elect to create a subset of your original data, you might wish to resample. In which case, the `arc.select()` function offers options for resampling your data through the `resample_type` argument. \n",
    "\n",
    "Here, we are creating a subset of our original data by specifying a desired number of rows and columns and then resampling the subset using the Cubic Convolution method. \n",
    "\n",
    "```R\n",
    "distance_to_water_ras <- as.raster(arc.raster(arc.open(\"data/data.gdb/World_Distance_to_Water_Stud_SM\"), nrow = 100, ncol = 100))\n",
    "```\n",
    "\n",
    "We can explore this result in the R console below:"
   ]
  },
  {
   "cell_type": "code",
   "execution_count": 29,
   "metadata": {},
   "outputs": [
    {
     "data": {
      "text/html": [
       "<ol class=list-inline>\n",
       "\t<li>14</li>\n",
       "\t<li>13</li>\n",
       "\t<li>8</li>\n",
       "\t<li>5</li>\n",
       "\t<li>4</li>\n",
       "\t<li>6</li>\n",
       "\t<li>10</li>\n",
       "\t<li>14</li>\n",
       "\t<li>18</li>\n",
       "\t<li>22</li>\n",
       "\t<li>27</li>\n",
       "\t<li>30</li>\n",
       "\t<li>33</li>\n",
       "\t<li>35</li>\n",
       "\t<li>39</li>\n",
       "</ol>\n"
      ],
      "text/latex": [
       "\\begin{enumerate*}\n",
       "\\item 14\n",
       "\\item 13\n",
       "\\item 8\n",
       "\\item 5\n",
       "\\item 4\n",
       "\\item 6\n",
       "\\item 10\n",
       "\\item 14\n",
       "\\item 18\n",
       "\\item 22\n",
       "\\item 27\n",
       "\\item 30\n",
       "\\item 33\n",
       "\\item 35\n",
       "\\item 39\n",
       "\\end{enumerate*}\n"
      ],
      "text/markdown": [
       "1. 14\n",
       "2. 13\n",
       "3. 8\n",
       "4. 5\n",
       "5. 4\n",
       "6. 6\n",
       "7. 10\n",
       "8. 14\n",
       "9. 18\n",
       "10. 22\n",
       "11. 27\n",
       "12. 30\n",
       "13. 33\n",
       "14. 35\n",
       "15. 39\n",
       "\n",
       "\n"
      ],
      "text/plain": [
       " [1] 14 13  8  5  4  6 10 14 18 22 27 30 33 35 39"
      ]
     },
     "metadata": {},
     "output_type": "display_data"
    },
    {
     "data": {
      "text/html": [
       "<ol class=list-inline>\n",
       "\t<li>14</li>\n",
       "\t<li>13</li>\n",
       "\t<li>8</li>\n",
       "\t<li>5</li>\n",
       "\t<li>4</li>\n",
       "\t<li>6</li>\n",
       "\t<li>10</li>\n",
       "\t<li>14</li>\n",
       "\t<li>18</li>\n",
       "\t<li>22</li>\n",
       "\t<li>27</li>\n",
       "\t<li>30</li>\n",
       "\t<li>33</li>\n",
       "\t<li>35</li>\n",
       "\t<li>39</li>\n",
       "</ol>\n"
      ],
      "text/latex": [
       "\\begin{enumerate*}\n",
       "\\item 14\n",
       "\\item 13\n",
       "\\item 8\n",
       "\\item 5\n",
       "\\item 4\n",
       "\\item 6\n",
       "\\item 10\n",
       "\\item 14\n",
       "\\item 18\n",
       "\\item 22\n",
       "\\item 27\n",
       "\\item 30\n",
       "\\item 33\n",
       "\\item 35\n",
       "\\item 39\n",
       "\\end{enumerate*}\n"
      ],
      "text/markdown": [
       "1. 14\n",
       "2. 13\n",
       "3. 8\n",
       "4. 5\n",
       "5. 4\n",
       "6. 6\n",
       "7. 10\n",
       "8. 14\n",
       "9. 18\n",
       "10. 22\n",
       "11. 27\n",
       "12. 30\n",
       "13. 33\n",
       "14. 35\n",
       "15. 39\n",
       "\n",
       "\n"
      ],
      "text/plain": [
       " [1] 14 13  8  5  4  6 10 14 18 22 27 30 33 35 39"
      ]
     },
     "metadata": {},
     "output_type": "display_data"
    }
   ],
   "source": [
    "#Original Pixel Values\n",
    "distance_to_water_ras <- as.raster(arc.raster(arc.open(\"data/data.gdb/World_Distance_to_Water_Stud_SM\"), nrow = 100, ncol = 100))\n",
    "head(distance_to_water_ras, 15)\n",
    "\n",
    "#Resampled Pixel Values\n",
    "distance_to_water_ras_resamp <- as.raster(arc.raster(arc.open(\"data/data.gdb/World_Distance_to_Water_Stud_SM\"), nrow = 100, ncol = 100, resample_type=\"CubicConvolution\"))\n",
    "head(distance_to_water_ras, 15)"
   ]
  },
  {
   "cell_type": "markdown",
   "metadata": {},
   "source": [
    "##### Reprojecting\n",
    "\n",
    "Similarly to the `arc.select()` function, we can reproject our data by using the `sr` parameter and specifying either the ESPG reference number, the WKT, or proj4 associcated with the ESPG reference number for the desired projection. Our `World_Distance_to_Waster_Stud_SM` file geodatabase raster is currently not projected. If we wished to add a projection, we could do so in the following way:\n",
    "\n",
    "ESPG reference number\n",
    "\n",
    "```R\n",
    "distance_to_water_ras <- arc.raster(arc.open(\"data/data.gdb/World_Distance_to_Water_Stud_SM\"), nrow = 100, ncol = 100, sr = 102003)\n",
    "```\n",
    "By checking the value of the `sr` attribute value, we can see our spatial reference has now changed."
   ]
  },
  {
   "cell_type": "code",
   "execution_count": 49,
   "metadata": {},
   "outputs": [
    {
     "data": {
      "text/html": [
       "<dl>\n",
       "\t<dt>$WKT</dt>\n",
       "\t\t<dd>'GEOGCS[\"WGS 84\",DATUM[\"World Geodetic System 1984\",SPHEROID[\"WGS 84\",6378137.0,298.257223563]],PRIMEM[\"Greenwich\",0.0],UNIT[\"degree\",0.0174532925199433]]'</dd>\n",
       "\t<dt>$WKID</dt>\n",
       "\t\t<dd>0</dd>\n",
       "</dl>\n"
      ],
      "text/latex": [
       "\\begin{description}\n",
       "\\item[\\$WKT] 'GEOGCS{[}\"WGS 84\",DATUM{[}\"World Geodetic System 1984\",SPHEROID{[}\"WGS 84\",6378137.0,298.257223563{]}{]},PRIMEM{[}\"Greenwich\",0.0{]},UNIT{[}\"degree\",0.0174532925199433{]}{]}'\n",
       "\\item[\\$WKID] 0\n",
       "\\end{description}\n"
      ],
      "text/markdown": [
       "$WKT\n",
       ":   'GEOGCS[\"WGS 84\",DATUM[\"World Geodetic System 1984\",SPHEROID[\"WGS 84\",6378137.0,298.257223563]],PRIMEM[\"Greenwich\",0.0],UNIT[\"degree\",0.0174532925199433]]'\n",
       "$WKID\n",
       ":   0\n",
       "\n",
       "\n"
      ],
      "text/plain": [
       "$WKT\n",
       "[1] \"GEOGCS[\\\"WGS 84\\\",DATUM[\\\"World Geodetic System 1984\\\",SPHEROID[\\\"WGS 84\\\",6378137.0,298.257223563]],PRIMEM[\\\"Greenwich\\\",0.0],UNIT[\\\"degree\\\",0.0174532925199433]]\"\n",
       "\n",
       "$WKID\n",
       "[1] 0\n"
      ]
     },
     "metadata": {},
     "output_type": "display_data"
    },
    {
     "data": {
      "text/html": [
       "<dl>\n",
       "\t<dt>$WKT</dt>\n",
       "\t\t<dd>'PROJCS[\"USA_Contiguous_Albers_Equal_Area_Conic\",GEOGCS[\"GCS_North_American_1983\",DATUM[\"D_North_American_1983\",SPHEROID[\"GRS_1980\",6378137.0,298.257222101]],PRIMEM[\"Greenwich\",0.0],UNIT[\"Degree\",0.0174532925199433]],PROJECTION[\"Albers\"],PARAMETER[\"False_Easting\",0.0],PARAMETER[\"False_Northing\",0.0],PARAMETER[\"Central_Meridian\",-96.0],PARAMETER[\"Standard_Parallel_1\",29.5],PARAMETER[\"Standard_Parallel_2\",45.5],PARAMETER[\"Latitude_Of_Origin\",37.5],UNIT[\"Meter\",1.0]]'</dd>\n",
       "\t<dt>$WKID</dt>\n",
       "\t\t<dd>102003</dd>\n",
       "</dl>\n"
      ],
      "text/latex": [
       "\\begin{description}\n",
       "\\item[\\$WKT] 'PROJCS{[}\"USA\\_Contiguous\\_Albers\\_Equal\\_Area\\_Conic\",GEOGCS{[}\"GCS\\_North\\_American\\_1983\",DATUM{[}\"D\\_North\\_American\\_1983\",SPHEROID{[}\"GRS\\_1980\",6378137.0,298.257222101{]}{]},PRIMEM{[}\"Greenwich\",0.0{]},UNIT{[}\"Degree\",0.0174532925199433{]}{]},PROJECTION{[}\"Albers\"{]},PARAMETER{[}\"False\\_Easting\",0.0{]},PARAMETER{[}\"False\\_Northing\",0.0{]},PARAMETER{[}\"Central\\_Meridian\",-96.0{]},PARAMETER{[}\"Standard\\_Parallel\\_1\",29.5{]},PARAMETER{[}\"Standard\\_Parallel\\_2\",45.5{]},PARAMETER{[}\"Latitude\\_Of\\_Origin\",37.5{]},UNIT{[}\"Meter\",1.0{]}{]}'\n",
       "\\item[\\$WKID] 102003\n",
       "\\end{description}\n"
      ],
      "text/markdown": [
       "$WKT\n",
       ":   'PROJCS[\"USA_Contiguous_Albers_Equal_Area_Conic\",GEOGCS[\"GCS_North_American_1983\",DATUM[\"D_North_American_1983\",SPHEROID[\"GRS_1980\",6378137.0,298.257222101]],PRIMEM[\"Greenwich\",0.0],UNIT[\"Degree\",0.0174532925199433]],PROJECTION[\"Albers\"],PARAMETER[\"False_Easting\",0.0],PARAMETER[\"False_Northing\",0.0],PARAMETER[\"Central_Meridian\",-96.0],PARAMETER[\"Standard_Parallel_1\",29.5],PARAMETER[\"Standard_Parallel_2\",45.5],PARAMETER[\"Latitude_Of_Origin\",37.5],UNIT[\"Meter\",1.0]]'\n",
       "$WKID\n",
       ":   102003\n",
       "\n",
       "\n"
      ],
      "text/plain": [
       "$WKT\n",
       "[1] \"PROJCS[\\\"USA_Contiguous_Albers_Equal_Area_Conic\\\",GEOGCS[\\\"GCS_North_American_1983\\\",DATUM[\\\"D_North_American_1983\\\",SPHEROID[\\\"GRS_1980\\\",6378137.0,298.257222101]],PRIMEM[\\\"Greenwich\\\",0.0],UNIT[\\\"Degree\\\",0.0174532925199433]],PROJECTION[\\\"Albers\\\"],PARAMETER[\\\"False_Easting\\\",0.0],PARAMETER[\\\"False_Northing\\\",0.0],PARAMETER[\\\"Central_Meridian\\\",-96.0],PARAMETER[\\\"Standard_Parallel_1\\\",29.5],PARAMETER[\\\"Standard_Parallel_2\\\",45.5],PARAMETER[\\\"Latitude_Of_Origin\\\",37.5],UNIT[\\\"Meter\\\",1.0]]\"\n",
       "\n",
       "$WKID\n",
       "[1] 102003\n"
      ]
     },
     "metadata": {},
     "output_type": "display_data"
    }
   ],
   "source": [
    "#Original Spatial Reference Information\n",
    "distance_to_water_ras <- arc.raster(arc.open(\"data/data.gdb/World_Distance_to_Water_Stud_SM\"), nrow = 100, ncol = 100)\n",
    "distance_to_water_ras$sr\n",
    "\n",
    "#ESPG reference number\n",
    "distance_to_water_ras <- arc.raster(arc.open(\"data/data.gdb/World_Distance_to_Water_Stud_SM\"), nrow = 100, ncol = 100, sr = 102003)\n",
    "distance_to_water_ras$sr\n"
   ]
  },
  {
   "cell_type": "markdown",
   "metadata": {},
   "source": [
    "#### as.raster Functionality\n",
    "\n",
    "We have already seen the `as.raster()` function in some of the examples above, but to properly define, the `as.raster()` function is from the R package **raster** and is designed to help create raster objects. It is utilized in the **arcgisbinding** package to help finish the conversion process from an ArcGIS raster type to an R **raster** package object. Full documentation on the function can be found [here](https://www.rdocumentation.org/packages/raster/versions/2.6-7/topics/as.raster). \n",
    "\n",
    "#### Mosaic Datasets\n",
    "\n",
    "So far, we have covered the **arcgisbinding** package functionality pertaining to most raster types, except for Mosaic rasters. The bridge handles Mosaic data sets in a slight different way when bringing them based on their structure. If you wish to work with a Mosaic data set in R, you will do the following to bring it into R from ArcGIS:\n",
    "\n",
    "First, you will use the `arc.open()` function just like you would for any other raster layer. Second, when you use the `arc.raster()` function, you will specify the method, regarding the family of sorting rules used by ArcGIS, as well as, the operator, used to resolve overlaps in ArcGIS. This will enable the bridge to properly read in your Mosaic data set. \n",
    "\n",
    "Example:\n",
    "\n",
    "```R\n",
    "```\n",
    "\n"
   ]
  },
  {
   "cell_type": "code",
   "execution_count": 64,
   "metadata": {},
   "outputs": [
    {
     "ename": "ERROR",
     "evalue": "Error in .call_proxy(\"dataset.open\", .Object, path): cannot open dataset\n",
     "output_type": "error",
     "traceback": [
      "Error in .call_proxy(\"dataset.open\", .Object, path): cannot open dataset\nTraceback:\n",
      "1. arc.raster(arc.open(\"data/data.gdb/bullseye_5bandMD\"), mosaic = list(method = \"NorthWest\", \n .     operator = \"Sum\"))",
      "2. arc.open(\"data/data.gdb/bullseye_5bandMD\")",
      "3. new(\"arc.dataset_impl\", path = path)",
      "4. initialize(value, ...)",
      "5. initialize(value, ...)",
      "6. .local(.Object, ...)",
      "7. .call_proxy(\"dataset.open\", .Object, path)"
     ]
    }
   ],
   "source": [
    "mosaic_ras <- arc.raster(arc.open(\"data/data.gdb/bullseye_5bandMD\"), mosaic = list(method = \"NorthWest\" , operator = \"First\"))\n"
   ]
  },
  {
   "cell_type": "code",
   "execution_count": 61,
   "metadata": {},
   "outputs": [
    {
     "data": {
      "text/html": [
       "<dl>\n",
       "\t<dt>$method</dt>\n",
       "\t\t<dd>'North-West'</dd>\n",
       "\t<dt>$operator</dt>\n",
       "\t\t<dd>'First'</dd>\n",
       "</dl>\n"
      ],
      "text/latex": [
       "\\begin{description}\n",
       "\\item[\\$method] 'North-West'\n",
       "\\item[\\$operator] 'First'\n",
       "\\end{description}\n"
      ],
      "text/markdown": [
       "$method\n",
       ":   'North-West'\n",
       "$operator\n",
       ":   'First'\n",
       "\n",
       "\n"
      ],
      "text/plain": [
       "$method\n",
       "[1] \"North-West\"\n",
       "\n",
       "$operator\n",
       "[1] \"First\"\n"
      ]
     },
     "metadata": {},
     "output_type": "display_data"
    }
   ],
   "source": [
    "list(method = \"North-West\" , operator = \"First\")\n"
   ]
  },
  {
   "cell_type": "markdown",
   "metadata": {},
   "source": [
    "#### Practice Session: Raster Manipulations"
   ]
  },
  {
   "cell_type": "code",
   "execution_count": null,
   "metadata": {},
   "outputs": [],
   "source": []
  }
 ],
 "metadata": {
  "kernelspec": {
   "display_name": "R",
   "language": "R",
   "name": "ir"
  },
  "language_info": {
   "codemirror_mode": "r",
   "file_extension": ".r",
   "mimetype": "text/x-r-source",
   "name": "R",
   "pygments_lexer": "r",
   "version": "3.4.3"
  }
 },
 "nbformat": 4,
 "nbformat_minor": 2
}
